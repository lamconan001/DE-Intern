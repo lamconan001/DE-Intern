{
 "cells": [
  {
   "cell_type": "code",
   "execution_count": 1,
   "id": "c0915236",
   "metadata": {},
   "outputs": [
    {
     "name": "stdout",
     "output_type": "stream",
     "text": [
      "Collecting findspark\n",
      "  Downloading findspark-2.0.1-py2.py3-none-any.whl (4.4 kB)\n",
      "Installing collected packages: findspark\n",
      "Successfully installed findspark-2.0.1\n",
      "Note: you may need to restart the kernel to use updated packages.\n"
     ]
    }
   ],
   "source": [
    "pip install findspark"
   ]
  },
  {
   "cell_type": "code",
   "execution_count": 30,
   "id": "02406536",
   "metadata": {},
   "outputs": [],
   "source": [
    "import findspark\n",
    "from pyspark.sql.functions import col, current_date, datediff, floor, when\n",
    "import matplotlib.pyplot as plt\n",
    "import seaborn as sns\n",
    "import pandas as pd\n",
    "from pyspark.sql.functions import udf\n",
    "from pyspark.sql.types import IntegerType"
   ]
  },
  {
   "cell_type": "code",
   "execution_count": 5,
   "id": "a4ad0ff8",
   "metadata": {},
   "outputs": [],
   "source": [
    "findspark.init()"
   ]
  },
  {
   "cell_type": "code",
   "execution_count": 6,
   "id": "afae3550",
   "metadata": {},
   "outputs": [],
   "source": [
    "from pyspark.sql import SparkSession"
   ]
  },
  {
   "cell_type": "code",
   "execution_count": 7,
   "id": "8eb890a2",
   "metadata": {},
   "outputs": [
    {
     "name": "stderr",
     "output_type": "stream",
     "text": [
      "/spark-3.4.3-bin-without-hadoop/python/pyspark/context.py:317: FutureWarning: Python 3.7 support is deprecated in Spark 3.4.\n",
      "  warnings.warn(\"Python 3.7 support is deprecated in Spark 3.4.\", FutureWarning)\n"
     ]
    }
   ],
   "source": [
    "spark = SparkSession.builder.appName(\"Read Parquet\").getOrCreate()"
   ]
  },
  {
   "cell_type": "code",
   "execution_count": 73,
   "id": "217dc717",
   "metadata": {},
   "outputs": [],
   "source": [
    "df = spark.read.parquet(\"hdfs:///data.parquet\")"
   ]
  },
  {
   "cell_type": "code",
   "execution_count": 101,
   "id": "bb54d55d",
   "metadata": {},
   "outputs": [
    {
     "name": "stdout",
     "output_type": "stream",
     "text": [
      "+----------------+----------+--------------------+---------+--------------------+----+---------+\n",
      "|             Tên| Ngày sinh|             Địa chỉ|Giới tính|       Số điện thoại|Tuổi|Nhóm tuổi|\n",
      "+----------------+----------+--------------------+---------+--------------------+----+---------+\n",
      "|Rachael Guerrero|1926-07-21|     6089 Moss Fords|      Nam| (383)406-4848x16592|  97|    90-99|\n",
      "|  Stephen Church|1918-11-14|      1927 Le Canyon|      Nam|001-578-324-5543x...| 105|     100+|\n",
      "| Sonia Cervantes|1915-03-12|07340 Mitchell Gr...|      Nam|  850-901-0649x67818| 109|     100+|\n",
      "|  Michaela Kelly|1922-01-28|   5026 Bright Ranch|       Nữ|          5026801700| 102|     100+|\n",
      "|  Cindy Williams|1995-02-11|  526 Bianca Village|       Nữ|001-941-391-6346x...|  29|    20-29|\n",
      "|  George Johnson|1941-06-19|   86696 Erin Stream|      Nam|001-474-660-8520x...|  82|    80-89|\n",
      "|    David Harper|2021-07-15|       3495 Alan Way|       Nữ|        530-303-2953|   2|      0-9|\n",
      "|     Jerry Hardy|1918-12-01| 85599 Murphy Forges|       Nữ|    001-275-562-0584| 105|     100+|\n",
      "|     Ryan Watson|1972-08-28|  1637 Thompson Burg|      Nam| (620)887-0832x46183|  51|    50-59|\n",
      "|     Leah Mccann|1925-09-22|    1786 Simon Ports|      Nam| +1-351-695-4976x716|  98|    90-99|\n",
      "+----------------+----------+--------------------+---------+--------------------+----+---------+\n",
      "only showing top 10 rows\n",
      "\n"
     ]
    },
    {
     "data": {
      "text/plain": [
       "1000000"
      ]
     },
     "execution_count": 101,
     "metadata": {},
     "output_type": "execute_result"
    }
   ],
   "source": [
    "df.show(10); df.count()"
   ]
  },
  {
   "cell_type": "code",
   "execution_count": 75,
   "id": "5b6bf5f2",
   "metadata": {},
   "outputs": [],
   "source": [
    "# Calculate age\n",
    "df = df.withColumn(\"Tuổi\", floor(datediff(current_date(), col(\"Ngày sinh\")) / 365.25))\n"
   ]
  },
  {
   "cell_type": "code",
   "execution_count": 76,
   "id": "916f01e8",
   "metadata": {},
   "outputs": [],
   "source": [
    "# Define age groups using when\n",
    "df = df.withColumn(\"Nhóm tuổi\",\n",
    "                   when(col(\"Tuổi\") < 10, \"0-9\")\n",
    "                   .when(col(\"Tuổi\") < 20, \"10-19\")\n",
    "                   .when(col(\"Tuổi\") < 30, \"20-29\")\n",
    "                   .when(col(\"Tuổi\") < 40, \"30-39\")\n",
    "                   .when(col(\"Tuổi\") < 50, \"40-49\")\n",
    "                   .when(col(\"Tuổi\") < 60, \"50-59\")\n",
    "                   .when(col(\"Tuổi\") < 70, \"60-69\")\n",
    "                   .when(col(\"Tuổi\") < 80, \"70-79\")\n",
    "                   .when(col(\"Tuổi\") < 90, \"80-89\")\n",
    "                   .when(col(\"Tuổi\") < 100, \"90-99\")\n",
    "                   .otherwise(\"100+\"))\n"
   ]
  },
  {
   "cell_type": "code",
   "execution_count": 77,
   "id": "36795cca",
   "metadata": {},
   "outputs": [
    {
     "name": "stdout",
     "output_type": "stream",
     "text": [
      "+--------------------+----------+--------------------+---------+--------------------+----+---------+\n",
      "|                 Tên| Ngày sinh|             Địa chỉ|Giới tính|       Số điện thoại|Tuổi|Nhóm tuổi|\n",
      "+--------------------+----------+--------------------+---------+--------------------+----+---------+\n",
      "|    Rachael Guerrero|1926-07-21|     6089 Moss Fords|      Nam| (383)406-4848x16592|  97|    90-99|\n",
      "|      Stephen Church|1918-11-14|      1927 Le Canyon|      Nam|001-578-324-5543x...| 105|     100+|\n",
      "|     Sonia Cervantes|1915-03-12|07340 Mitchell Gr...|      Nam|  850-901-0649x67818| 109|     100+|\n",
      "|      Michaela Kelly|1922-01-28|   5026 Bright Ranch|       Nữ|          5026801700| 102|     100+|\n",
      "|      Cindy Williams|1995-02-11|  526 Bianca Village|       Nữ|001-941-391-6346x...|  29|    20-29|\n",
      "|      George Johnson|1941-06-19|   86696 Erin Stream|      Nam|001-474-660-8520x...|  82|    80-89|\n",
      "|        David Harper|2021-07-15|       3495 Alan Way|       Nữ|        530-303-2953|   2|      0-9|\n",
      "|         Jerry Hardy|1918-12-01| 85599 Murphy Forges|       Nữ|    001-275-562-0584| 105|     100+|\n",
      "|         Ryan Watson|1972-08-28|  1637 Thompson Burg|      Nam| (620)887-0832x46183|  51|    50-59|\n",
      "|         Leah Mccann|1925-09-22|    1786 Simon Ports|      Nam| +1-351-695-4976x716|  98|    90-99|\n",
      "|        Kent Russell|2007-08-11|0247 Ryan Squares...|      Nam|     +1-274-588-5572|  16|    10-19|\n",
      "|      Michael Holmes|2021-12-03|   22725 Johnson Key|       Nữ|  288-978-3243x47218|   2|      0-9|\n",
      "|        Amanda Ayala|1962-05-20|  9043 Brown Prairie|       Nữ|        518.281.2666|  61|    60-69|\n",
      "|       Joshua Becker|1948-06-20|73756 Olivia Squa...|      Nam|   993-833-9216x0468|  75|    70-79|\n",
      "|Christopher Crawford|1916-02-25|576 Michael Vista...|       Nữ|+1-353-843-2797x7...| 108|     100+|\n",
      "|    Yesenia Marshall|1913-09-18|7994 Rachel Corne...|      Nam|001-984-485-8801x593| 110|     100+|\n",
      "|          Mark Marks|2000-10-09|3787 Lawrence Via...|      Nam|        969-438-8410|  23|    20-29|\n",
      "|    Elizabeth Barker|1979-11-28|     195 Laura Ridge|       Nữ|        923.766.2237|  44|    40-49|\n",
      "|      Ethan Melendez|1937-07-20|008 Zamora Tunnel...|      Nam|001-341-291-0457x...|  86|    80-89|\n",
      "|    Alexander Torres|2010-07-13|08960 Hoffman Via...|      Nam| +1-708-941-8110x761|  13|    10-19|\n",
      "+--------------------+----------+--------------------+---------+--------------------+----+---------+\n",
      "only showing top 20 rows\n",
      "\n"
     ]
    }
   ],
   "source": [
    "df.show()"
   ]
  },
  {
   "cell_type": "code",
   "execution_count": 98,
   "id": "83fb4610",
   "metadata": {},
   "outputs": [],
   "source": [
    "age_gender_df = df.groupBy(\"Nhóm tuổi\", \"Giới tính\").count()\n"
   ]
  },
  {
   "cell_type": "code",
   "execution_count": 93,
   "id": "df9db6ea",
   "metadata": {},
   "outputs": [
    {
     "name": "stdout",
     "output_type": "stream",
     "text": [
      "+---------+---------+-----+\n",
      "|Nhóm tuổi|Giới tính|count|\n",
      "+---------+---------+-----+\n",
      "|    70-79|      Nam|43012|\n",
      "|    90-99|       Nữ|42930|\n",
      "|    40-49|      Nam|43225|\n",
      "|    70-79|       Nữ|42888|\n",
      "|    10-19|       Nữ|42971|\n",
      "|    20-29|       Nữ|42610|\n",
      "|    50-59|      Nam|43202|\n",
      "|    80-89|      Nam|43489|\n",
      "|    20-29|      Nam|43068|\n",
      "|      0-9|       Nữ|43392|\n",
      "|    60-69|      Nam|43270|\n",
      "|    80-89|       Nữ|42851|\n",
      "|    90-99|      Nam|42868|\n",
      "|    50-59|       Nữ|43160|\n",
      "|     100+|      Nam|68813|\n",
      "|    30-39|      Nam|43186|\n",
      "|    10-19|      Nam|43195|\n",
      "|    40-49|       Nữ|43173|\n",
      "|      0-9|      Nam|43019|\n",
      "|     100+|       Nữ|69231|\n",
      "+---------+---------+-----+\n",
      "only showing top 20 rows\n",
      "\n"
     ]
    }
   ],
   "source": [
    "age_gender_df.show()"
   ]
  },
  {
   "cell_type": "code",
   "execution_count": 94,
   "id": "ea5a21fa",
   "metadata": {},
   "outputs": [],
   "source": [
    "# Function to convert age groups to sort keys\n",
    "def age_group_to_sort_key(age_group):\n",
    "    if age_group == \"100+\":\n",
    "        return 100\n",
    "    else:\n",
    "        # Return the lower bound of the age range\n",
    "        return int(age_group.split('-')[0])"
   ]
  },
  {
   "cell_type": "code",
   "execution_count": 99,
   "id": "b832a054",
   "metadata": {},
   "outputs": [],
   "source": [
    "age_gender_df= (age_gender_df.withColumn(\"Sort Key\", age_group_to_sort_key_udf(df[\"Nhóm tuổi\"]))\n",
    "                .orderBy(\"Sort Key\")\n",
    "                .toPandas())\n"
   ]
  },
  {
   "cell_type": "code",
   "execution_count": 100,
   "id": "d935da1f",
   "metadata": {},
   "outputs": [
    {
     "data": {
      "image/png": "[encoded data removed]",
      "text/plain": [
       "<Figure size 864x432 with 1 Axes>"
      ]
     },
     "metadata": {
      "needs_background": "light"
     },
     "output_type": "display_data"
    }
   ],
   "source": [
    "plt.figure(figsize=(12, 6))\n",
    "sns.barplot(x=\"Nhóm tuổi\", y=\"count\", hue=\"Giới tính\", data=age_gender_df)\n",
    "plt.title(\"Phân bố lượng người dùng theo nhóm tuổi và giới tính\")\n",
    "plt.xlabel(\"Nhóm tuổi\")\n",
    "plt.ylabel(\"Số lượng\")\n",
    "plt.xticks(rotation=45)\n",
    "plt.legend(title=\"Giới tính\")\n",
    "plt.tight_layout()\n",
    "plt.show()"
   ]
  },
  {
   "cell_type": "code",
   "execution_count": null,
   "id": "41b4eaf3",
   "metadata": {},
   "outputs": [],
   "source": []
  }
 ],
 "metadata": {
  "kernelspec": {
   "display_name": "Python 3",
   "language": "python",
   "name": "python3"
  },
  "language_info": {
   "codemirror_mode": {
    "name": "ipython",
    "version": 3
   },
   "file_extension": ".py",
   "mimetype": "text/x-python",
   "name": "python",
   "nbconvert_exporter": "python",
   "pygments_lexer": "ipython3",
   "version": "3.6.8"
  }
 },
 "nbformat": 4,
 "nbformat_minor": 5
}
